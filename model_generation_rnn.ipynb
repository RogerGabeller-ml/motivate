{
 "cells": [
  {
   "cell_type": "markdown",
   "id": "70befdfb",
   "metadata": {},
   "source": [
    "# Model Generation via Recurrent Neural Network\n"
   ]
  },
  {
   "cell_type": "code",
   "execution_count": 33,
   "id": "94efbeb5",
   "metadata": {},
   "outputs": [],
   "source": [
    "import pandas as pd"
   ]
  },
  {
   "cell_type": "code",
   "execution_count": 35,
   "id": "f2ed68a2",
   "metadata": {},
   "outputs": [],
   "source": [
    "import tensorflow as tf\n",
    "\n",
    "from tensorflow.keras.models import Sequential"
   ]
  },
  {
   "cell_type": "code",
   "execution_count": 42,
   "id": "c90d7a01",
   "metadata": {},
   "outputs": [
    {
     "data": {
      "text/html": [
       "<div>\n",
       "<style scoped>\n",
       "    .dataframe tbody tr th:only-of-type {\n",
       "        vertical-align: middle;\n",
       "    }\n",
       "\n",
       "    .dataframe tbody tr th {\n",
       "        vertical-align: top;\n",
       "    }\n",
       "\n",
       "    .dataframe thead th {\n",
       "        text-align: right;\n",
       "    }\n",
       "</style>\n",
       "<table border=\"1\" class=\"dataframe\">\n",
       "  <thead>\n",
       "    <tr style=\"text-align: right;\">\n",
       "      <th></th>\n",
       "      <th>quote</th>\n",
       "      <th>author</th>\n",
       "      <th>tags</th>\n",
       "    </tr>\n",
       "  </thead>\n",
       "  <tbody>\n",
       "    <tr>\n",
       "      <th>0</th>\n",
       "      <td>Be yourself; everyone else is already taken.</td>\n",
       "      <td>Oscar Wilde</td>\n",
       "      <td>attributed-no-source;be-yourself;honesty;inspi...</td>\n",
       "    </tr>\n",
       "    <tr>\n",
       "      <th>1</th>\n",
       "      <td>You've gotta dance like there's nobody watching</td>\n",
       "      <td>William W. Purkey</td>\n",
       "      <td>dance;heaven;hurt;inspirational;life;love;sing</td>\n",
       "    </tr>\n",
       "    <tr>\n",
       "      <th>2</th>\n",
       "      <td>Be the change that you wish to see in the world.</td>\n",
       "      <td>Mahatma Gandhi</td>\n",
       "      <td>action;change;inspirational;philosophy;wish</td>\n",
       "    </tr>\n",
       "    <tr>\n",
       "      <th>3</th>\n",
       "      <td>No one can make you feel inferior without your...</td>\n",
       "      <td>Eleanor Roosevelt,</td>\n",
       "      <td>confidence;inspirational;wisdom</td>\n",
       "    </tr>\n",
       "    <tr>\n",
       "      <th>4</th>\n",
       "      <td>Live as if you were to die tomorrow. Learn as ...</td>\n",
       "      <td>Mahatma Gandhi</td>\n",
       "      <td>carpe-diem;education;inspirational;learning</td>\n",
       "    </tr>\n",
       "  </tbody>\n",
       "</table>\n",
       "</div>"
      ],
      "text/plain": [
       "                                               quote              author  \\\n",
       "0       Be yourself; everyone else is already taken.         Oscar Wilde   \n",
       "1    You've gotta dance like there's nobody watching   William W. Purkey   \n",
       "2   Be the change that you wish to see in the world.      Mahatma Gandhi   \n",
       "3  No one can make you feel inferior without your...  Eleanor Roosevelt,   \n",
       "4  Live as if you were to die tomorrow. Learn as ...      Mahatma Gandhi   \n",
       "\n",
       "                                                tags  \n",
       "0  attributed-no-source;be-yourself;honesty;inspi...  \n",
       "1     dance;heaven;hurt;inspirational;life;love;sing  \n",
       "2        action;change;inspirational;philosophy;wish  \n",
       "3                    confidence;inspirational;wisdom  \n",
       "4        carpe-diem;education;inspirational;learning  "
      ]
     },
     "execution_count": 42,
     "metadata": {},
     "output_type": "execute_result"
    }
   ],
   "source": [
    "df = pd.read_csv('quotes.csv')\n",
    "df.head()"
   ]
  }
 ],
 "metadata": {
  "kernelspec": {
   "display_name": "tf_gpu",
   "language": "python",
   "name": "tf_gpu"
  },
  "language_info": {
   "codemirror_mode": {
    "name": "ipython",
    "version": 3
   },
   "file_extension": ".py",
   "mimetype": "text/x-python",
   "name": "python",
   "nbconvert_exporter": "python",
   "pygments_lexer": "ipython3",
   "version": "3.9.12"
  }
 },
 "nbformat": 4,
 "nbformat_minor": 5
}
