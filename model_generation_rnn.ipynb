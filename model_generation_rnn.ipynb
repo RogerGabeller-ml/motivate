{
 "cells": [
  {
   "cell_type": "markdown",
   "id": "70befdfb",
   "metadata": {},
   "source": [
    "# Model Generation via Recurrent Neural Network\n"
   ]
  },
  {
   "cell_type": "code",
   "execution_count": 33,
   "id": "b99ff11f",
   "metadata": {},
   "outputs": [],
   "source": [
    "import pandas as pd"
   ]
  },
  {
   "cell_type": "code",
   "execution_count": 35,
   "id": "f9a51bb9",
   "metadata": {},
   "outputs": [],
   "source": [
    "import tensorflow as tf\n",
    "\n",
    "from tensorflow.keras.models import Sequential"
   ]
  },
  {
   "cell_type": "code",
   "execution_count": 37,
   "id": "bbe50390",
   "metadata": {},
   "outputs": [
    {
     "data": {
      "text/html": [
       "<div>\n",
       "<style scoped>\n",
       "    .dataframe tbody tr th:only-of-type {\n",
       "        vertical-align: middle;\n",
       "    }\n",
       "\n",
       "    .dataframe tbody tr th {\n",
       "        vertical-align: top;\n",
       "    }\n",
       "\n",
       "    .dataframe thead th {\n",
       "        text-align: right;\n",
       "    }\n",
       "</style>\n",
       "<table border=\"1\" class=\"dataframe\">\n",
       "  <thead>\n",
       "    <tr style=\"text-align: right;\">\n",
       "      <th></th>\n",
       "      <th>Unnamed: 0</th>\n",
       "      <th>quote</th>\n",
       "      <th>author</th>\n",
       "      <th>tags</th>\n",
       "    </tr>\n",
       "  </thead>\n",
       "  <tbody>\n",
       "    <tr>\n",
       "      <th>0</th>\n",
       "      <td>0</td>\n",
       "      <td>Be yourself; everyone else is already taken.</td>\n",
       "      <td>Oscar Wilde</td>\n",
       "      <td>attributed-no-source;be-yourself;honesty;inspi...</td>\n",
       "    </tr>\n",
       "    <tr>\n",
       "      <th>1</th>\n",
       "      <td>1</td>\n",
       "      <td>You've gotta dance like there's nobody watching</td>\n",
       "      <td>William W. Purkey</td>\n",
       "      <td>dance;heaven;hurt;inspirational;life;love;sing</td>\n",
       "    </tr>\n",
       "    <tr>\n",
       "      <th>2</th>\n",
       "      <td>2</td>\n",
       "      <td>Be the change that you wish to see in the world.</td>\n",
       "      <td>Mahatma Gandhi</td>\n",
       "      <td>action;change;inspirational;philosophy;wish</td>\n",
       "    </tr>\n",
       "    <tr>\n",
       "      <th>3</th>\n",
       "      <td>3</td>\n",
       "      <td>No one can make you feel inferior without your...</td>\n",
       "      <td>Eleanor Roosevelt,</td>\n",
       "      <td>confidence;inspirational;wisdom</td>\n",
       "    </tr>\n",
       "    <tr>\n",
       "      <th>4</th>\n",
       "      <td>4</td>\n",
       "      <td>Live as if you were to die tomorrow. Learn as ...</td>\n",
       "      <td>Mahatma Gandhi</td>\n",
       "      <td>carpe-diem;education;inspirational;learning</td>\n",
       "    </tr>\n",
       "    <tr>\n",
       "      <th>...</th>\n",
       "      <td>...</td>\n",
       "      <td>...</td>\n",
       "      <td>...</td>\n",
       "      <td>...</td>\n",
       "    </tr>\n",
       "    <tr>\n",
       "      <th>2996</th>\n",
       "      <td>2996</td>\n",
       "      <td>And this is for Colored girls who have conside...</td>\n",
       "      <td>Ntozake Shange,</td>\n",
       "      <td>inspirational</td>\n",
       "    </tr>\n",
       "    <tr>\n",
       "      <th>2997</th>\n",
       "      <td>2997</td>\n",
       "      <td>After all, when you come right down to it, how...</td>\n",
       "      <td>Russell Hoban</td>\n",
       "      <td>inspirational</td>\n",
       "    </tr>\n",
       "    <tr>\n",
       "      <th>2998</th>\n",
       "      <td>2998</td>\n",
       "      <td>Aku telah mengidap sakit gila nomor enam belas...</td>\n",
       "      <td>Andrea Hirata,</td>\n",
       "      <td>humor;inspirational;irony</td>\n",
       "    </tr>\n",
       "    <tr>\n",
       "      <th>2999</th>\n",
       "      <td>2999</td>\n",
       "      <td>The moon is the reflection of your heart and m...</td>\n",
       "      <td>Debasish Mridha</td>\n",
       "      <td>education;happiness;heart;hope;inspirational;i...</td>\n",
       "    </tr>\n",
       "    <tr>\n",
       "      <th>3000</th>\n",
       "      <td>3000</td>\n",
       "      <td>But in the end it's only a passing thing, this...</td>\n",
       "      <td>J.R.R. Tolkien,</td>\n",
       "      <td>inspirational</td>\n",
       "    </tr>\n",
       "  </tbody>\n",
       "</table>\n",
       "<p>3001 rows × 4 columns</p>\n",
       "</div>"
      ],
      "text/plain": [
       "      Unnamed: 0                                              quote  \\\n",
       "0              0       Be yourself; everyone else is already taken.   \n",
       "1              1    You've gotta dance like there's nobody watching   \n",
       "2              2   Be the change that you wish to see in the world.   \n",
       "3              3  No one can make you feel inferior without your...   \n",
       "4              4  Live as if you were to die tomorrow. Learn as ...   \n",
       "...          ...                                                ...   \n",
       "2996        2996  And this is for Colored girls who have conside...   \n",
       "2997        2997  After all, when you come right down to it, how...   \n",
       "2998        2998  Aku telah mengidap sakit gila nomor enam belas...   \n",
       "2999        2999  The moon is the reflection of your heart and m...   \n",
       "3000        3000  But in the end it's only a passing thing, this...   \n",
       "\n",
       "                  author                                               tags  \n",
       "0            Oscar Wilde  attributed-no-source;be-yourself;honesty;inspi...  \n",
       "1      William W. Purkey     dance;heaven;hurt;inspirational;life;love;sing  \n",
       "2         Mahatma Gandhi        action;change;inspirational;philosophy;wish  \n",
       "3     Eleanor Roosevelt,                    confidence;inspirational;wisdom  \n",
       "4         Mahatma Gandhi        carpe-diem;education;inspirational;learning  \n",
       "...                  ...                                                ...  \n",
       "2996     Ntozake Shange,                                      inspirational  \n",
       "2997       Russell Hoban                                      inspirational  \n",
       "2998      Andrea Hirata,                          humor;inspirational;irony  \n",
       "2999     Debasish Mridha  education;happiness;heart;hope;inspirational;i...  \n",
       "3000     J.R.R. Tolkien,                                      inspirational  \n",
       "\n",
       "[3001 rows x 4 columns]"
      ]
     },
     "execution_count": 37,
     "metadata": {},
     "output_type": "execute_result"
    }
   ],
   "source": [
    "df = pd.read_csv('quotes.csv')\n",
    "df"
   ]
  },
  {
   "cell_type": "code",
   "execution_count": 38,
   "id": "d40f26f8",
   "metadata": {},
   "outputs": [],
   "source": [
    "df.drop(df.columns[[0]], axis=1, inplace=True)"
   ]
  },
  {
   "cell_type": "code",
   "execution_count": null,
   "id": "d2c8d50b",
   "metadata": {},
   "outputs": [],
   "source": [
    "df"
   ]
  }
 ],
 "metadata": {
  "kernelspec": {
   "display_name": "tf_gpu",
   "language": "python",
   "name": "tf_gpu"
  },
  "language_info": {
   "codemirror_mode": {
    "name": "ipython",
    "version": 3
   },
   "file_extension": ".py",
   "mimetype": "text/x-python",
   "name": "python",
   "nbconvert_exporter": "python",
   "pygments_lexer": "ipython3",
   "version": "3.9.12"
  }
 },
 "nbformat": 4,
 "nbformat_minor": 5
}
