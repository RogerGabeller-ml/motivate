{
 "cells": [
  {
   "cell_type": "markdown",
   "id": "70befdfb",
   "metadata": {},
   "source": [
    "# Model Generation via Markov Chain\n"
   ]
  },
  {
   "cell_type": "code",
   "execution_count": 58,
   "id": "94efbeb5",
   "metadata": {},
   "outputs": [],
   "source": [
    "import pandas as pd\n",
    "import random"
   ]
  },
  {
   "cell_type": "code",
   "execution_count": 31,
   "id": "c90d7a01",
   "metadata": {
    "scrolled": true
   },
   "outputs": [
    {
     "data": {
      "text/html": [
       "<div>\n",
       "<style scoped>\n",
       "    .dataframe tbody tr th:only-of-type {\n",
       "        vertical-align: middle;\n",
       "    }\n",
       "\n",
       "    .dataframe tbody tr th {\n",
       "        vertical-align: top;\n",
       "    }\n",
       "\n",
       "    .dataframe thead th {\n",
       "        text-align: right;\n",
       "    }\n",
       "</style>\n",
       "<table border=\"1\" class=\"dataframe\">\n",
       "  <thead>\n",
       "    <tr style=\"text-align: right;\">\n",
       "      <th></th>\n",
       "      <th>quote</th>\n",
       "      <th>author</th>\n",
       "    </tr>\n",
       "  </thead>\n",
       "  <tbody>\n",
       "    <tr>\n",
       "      <th>0</th>\n",
       "      <td>Be yourself; everyone else is already taken.</td>\n",
       "      <td>Oscar Wilde</td>\n",
       "    </tr>\n",
       "    <tr>\n",
       "      <th>1</th>\n",
       "      <td>You've gotta dance like there's nobody watching</td>\n",
       "      <td>William W. Purkey</td>\n",
       "    </tr>\n",
       "    <tr>\n",
       "      <th>2</th>\n",
       "      <td>Be the change that you wish to see in the world.</td>\n",
       "      <td>Mahatma Gandhi</td>\n",
       "    </tr>\n",
       "    <tr>\n",
       "      <th>3</th>\n",
       "      <td>No one can make you feel inferior without your...</td>\n",
       "      <td>Eleanor Roosevelt,</td>\n",
       "    </tr>\n",
       "    <tr>\n",
       "      <th>4</th>\n",
       "      <td>Live as if you were to die tomorrow. Learn as ...</td>\n",
       "      <td>Mahatma Gandhi</td>\n",
       "    </tr>\n",
       "    <tr>\n",
       "      <th>...</th>\n",
       "      <td>...</td>\n",
       "      <td>...</td>\n",
       "    </tr>\n",
       "    <tr>\n",
       "      <th>2991</th>\n",
       "      <td>And this is for Colored girls who have conside...</td>\n",
       "      <td>Ntozake Shange,</td>\n",
       "    </tr>\n",
       "    <tr>\n",
       "      <th>2992</th>\n",
       "      <td>After all, when you come right down to it, how...</td>\n",
       "      <td>Russell Hoban</td>\n",
       "    </tr>\n",
       "    <tr>\n",
       "      <th>2993</th>\n",
       "      <td>Aku telah mengidap sakit gila nomor enam belas...</td>\n",
       "      <td>Andrea Hirata,</td>\n",
       "    </tr>\n",
       "    <tr>\n",
       "      <th>2994</th>\n",
       "      <td>The moon is the reflection of your heart and m...</td>\n",
       "      <td>Debasish Mridha</td>\n",
       "    </tr>\n",
       "    <tr>\n",
       "      <th>2995</th>\n",
       "      <td>But in the end it's only a passing thing, this...</td>\n",
       "      <td>J.R.R. Tolkien,</td>\n",
       "    </tr>\n",
       "  </tbody>\n",
       "</table>\n",
       "<p>2996 rows × 2 columns</p>\n",
       "</div>"
      ],
      "text/plain": [
       "                                                  quote              author\n",
       "0          Be yourself; everyone else is already taken.         Oscar Wilde\n",
       "1       You've gotta dance like there's nobody watching   William W. Purkey\n",
       "2      Be the change that you wish to see in the world.      Mahatma Gandhi\n",
       "3     No one can make you feel inferior without your...  Eleanor Roosevelt,\n",
       "4     Live as if you were to die tomorrow. Learn as ...      Mahatma Gandhi\n",
       "...                                                 ...                 ...\n",
       "2991  And this is for Colored girls who have conside...     Ntozake Shange,\n",
       "2992  After all, when you come right down to it, how...       Russell Hoban\n",
       "2993  Aku telah mengidap sakit gila nomor enam belas...      Andrea Hirata,\n",
       "2994  The moon is the reflection of your heart and m...     Debasish Mridha\n",
       "2995  But in the end it's only a passing thing, this...     J.R.R. Tolkien,\n",
       "\n",
       "[2996 rows x 2 columns]"
      ]
     },
     "execution_count": 31,
     "metadata": {},
     "output_type": "execute_result"
    }
   ],
   "source": [
    "df = pd.read_csv('quotes.csv')\n",
    "df.dropna(inplace=True)\n",
    "df"
   ]
  },
  {
   "cell_type": "code",
   "execution_count": 182,
   "id": "e232150b",
   "metadata": {},
   "outputs": [],
   "source": [
    "SEQUENCE_LEN = 15\n",
    "\n",
    "chain = {}\n",
    "chain['START'] = []"
   ]
  },
  {
   "cell_type": "code",
   "execution_count": 183,
   "id": "56712439",
   "metadata": {},
   "outputs": [],
   "source": [
    "for quote in df['quote']:\n",
    "    for i in range(len(quote) - SEQUENCE_LEN):\n",
    "        seq = quote[i:i + SEQUENCE_LEN]\n",
    "        next_char = quote[i + SEQUENCE_LEN]\n",
    "        if seq in chain:\n",
    "            if chain[seq] == 'END':\n",
    "                break\n",
    "            chain[seq].append(next_char)\n",
    "        else:\n",
    "            chain[seq] = [next_char]\n",
    "    chain[quote[-SEQUENCE_LEN:]] = 'END'\n",
    "    chain['START'].append(quote[:SEQUENCE_LEN])"
   ]
  },
  {
   "cell_type": "code",
   "execution_count": 184,
   "id": "b2c220a4",
   "metadata": {},
   "outputs": [],
   "source": [
    "def generate_quote():\n",
    "    head = 'START'\n",
    "    q = ''\n",
    "    while chain[head] != 'END':\n",
    "        q += random.choice(chain[head])\n",
    "        head = q[-SEQUENCE_LEN:]\n",
    "    return q"
   ]
  },
  {
   "cell_type": "code",
   "execution_count": 186,
   "id": "29fa2019",
   "metadata": {},
   "outputs": [
    {
     "data": {
      "text/plain": [
       "'Never apologize for the truth.'"
      ]
     },
     "execution_count": 186,
     "metadata": {},
     "output_type": "execute_result"
    }
   ],
   "source": [
    "x = 'It is our wounds that create in us a desire to reach for miracles. The fulfillment of such miracles depends on whether we let our wounds pull us down or lift us up towards our dreams.'\n",
    "while len(x) > 100 or x in ' '.join(list(df['quote'])):\n",
    "    x = generate_quote()\n",
    "x"
   ]
  },
  {
   "cell_type": "code",
   "execution_count": null,
   "id": "bad81f45",
   "metadata": {},
   "outputs": [],
   "source": []
  }
 ],
 "metadata": {
  "kernelspec": {
   "display_name": "tf_gpu",
   "language": "python",
   "name": "tf_gpu"
  },
  "language_info": {
   "codemirror_mode": {
    "name": "ipython",
    "version": 3
   },
   "file_extension": ".py",
   "mimetype": "text/x-python",
   "name": "python",
   "nbconvert_exporter": "python",
   "pygments_lexer": "ipython3",
   "version": "3.9.12"
  }
 },
 "nbformat": 4,
 "nbformat_minor": 5
}
